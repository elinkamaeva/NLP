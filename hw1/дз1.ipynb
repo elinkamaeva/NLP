{
 "cells": [
  {
   "cell_type": "code",
   "execution_count": 1,
   "id": "b73c2a74",
   "metadata": {},
   "outputs": [],
   "source": [
    "import pandas as pd\n",
    "import nltk\n",
    "from pymorphy2 import MorphAnalyzer\n",
    "from nltk.corpus import stopwords\n",
    "from string import punctuation\n",
    "from collections import Counter\n",
    "from sklearn.metrics import accuracy_score"
   ]
  },
  {
   "cell_type": "code",
   "execution_count": 2,
   "id": "a6f86850",
   "metadata": {},
   "outputs": [
    {
     "data": {
      "text/html": [
       "<div>\n",
       "<style scoped>\n",
       "    .dataframe tbody tr th:only-of-type {\n",
       "        vertical-align: middle;\n",
       "    }\n",
       "\n",
       "    .dataframe tbody tr th {\n",
       "        vertical-align: top;\n",
       "    }\n",
       "\n",
       "    .dataframe thead th {\n",
       "        text-align: right;\n",
       "    }\n",
       "</style>\n",
       "<table border=\"1\" class=\"dataframe\">\n",
       "  <thead>\n",
       "    <tr style=\"text-align: right;\">\n",
       "      <th></th>\n",
       "      <th>Review</th>\n",
       "      <th>Rating</th>\n",
       "    </tr>\n",
       "  </thead>\n",
       "  <tbody>\n",
       "    <tr>\n",
       "      <th>0</th>\n",
       "      <td>3D Touch просто восхитительная вещь! Заряд дер...</td>\n",
       "      <td>5</td>\n",
       "    </tr>\n",
       "    <tr>\n",
       "      <th>1</th>\n",
       "      <td>Отключается при температуре близкой к нулю, не...</td>\n",
       "      <td>4</td>\n",
       "    </tr>\n",
       "    <tr>\n",
       "      <th>2</th>\n",
       "      <td>В Apple окончательно решили не заморачиваться,...</td>\n",
       "      <td>3</td>\n",
       "    </tr>\n",
       "    <tr>\n",
       "      <th>3</th>\n",
       "      <td>Постарался наиболее ёмко и коротко описать все...</td>\n",
       "      <td>4</td>\n",
       "    </tr>\n",
       "    <tr>\n",
       "      <th>4</th>\n",
       "      <td>Достойный телефон. Пользоваться одно удовольст...</td>\n",
       "      <td>5</td>\n",
       "    </tr>\n",
       "  </tbody>\n",
       "</table>\n",
       "</div>"
      ],
      "text/plain": [
       "                                              Review  Rating\n",
       "0  3D Touch просто восхитительная вещь! Заряд дер...       5\n",
       "1  Отключается при температуре близкой к нулю, не...       4\n",
       "2  В Apple окончательно решили не заморачиваться,...       3\n",
       "3  Постарался наиболее ёмко и коротко описать все...       4\n",
       "4  Достойный телефон. Пользоваться одно удовольст...       5"
      ]
     },
     "execution_count": 2,
     "metadata": {},
     "output_type": "execute_result"
    }
   ],
   "source": [
    "df = pd.read_csv('data.csv')\n",
    "df.head()"
   ]
  },
  {
   "cell_type": "code",
   "execution_count": 3,
   "id": "f4854145",
   "metadata": {},
   "outputs": [],
   "source": [
    "df.dropna(inplace=True)\n",
    "df = df[df['Rating'] <= 5]"
   ]
  },
  {
   "cell_type": "code",
   "execution_count": 4,
   "id": "71039e2c",
   "metadata": {},
   "outputs": [],
   "source": [
    "neg_reviews = list(df['Review'][df['Rating'] < 4][:55])\n",
    "neg_train = neg_reviews[:50]\n",
    "neg_test = neg_reviews[50:]\n",
    "\n",
    "pos_reviews = list(df['Review'][df['Rating'] >= 4][:55])\n",
    "pos_train = pos_reviews[:50]\n",
    "pos_test = pos_reviews[50:]\n",
    "\n",
    "X_train = pos_train + neg_train\n",
    "X_test = pos_test + neg_test\n",
    "y_train = [1] * 50 + [0] * 50\n",
    "y_test = [1] * 5 + [0] * 5"
   ]
  },
  {
   "cell_type": "code",
   "execution_count": 5,
   "id": "3024104d",
   "metadata": {},
   "outputs": [],
   "source": [
    "m = MorphAnalyzer()"
   ]
  },
  {
   "cell_type": "code",
   "execution_count": 6,
   "id": "45d44364",
   "metadata": {},
   "outputs": [],
   "source": [
    "sw = stopwords.words('russian')\n",
    "\n",
    "def lemmatize(reviews_list):\n",
    "    lemmas_w_noise = [m.parse(word)[0].normal_form for review in reviews_list\n",
    "                      for sent in nltk.sent_tokenize(review)\n",
    "                      for word in nltk.word_tokenize(sent)]\n",
    "    lemmas = [lemma for lemma in lemmas_w_noise\n",
    "              if lemma not in punctuation and lemma not in sw]\n",
    "    return lemmas"
   ]
  },
  {
   "cell_type": "code",
   "execution_count": 7,
   "id": "238b5786",
   "metadata": {},
   "outputs": [],
   "source": [
    "def lemmatize_text(review):\n",
    "    lemmas_w_noise = [m.parse(word)[0].normal_form \n",
    "                      for sent in nltk.sent_tokenize(review)\n",
    "                      for word in nltk.word_tokenize(sent)]\n",
    "    lemmas = [lemma for lemma in lemmas_w_noise\n",
    "              if lemma not in punctuation and lemma not in sw]\n",
    "    return lemmas"
   ]
  },
  {
   "cell_type": "code",
   "execution_count": 8,
   "id": "bf0a9edc",
   "metadata": {},
   "outputs": [],
   "source": [
    "def most_common(lemmas):\n",
    "    counted = Counter(lemmas)\n",
    "    new_lemmas = set({k:v for k,v in counted.items() if v > 2 })\n",
    "    return new_lemmas"
   ]
  },
  {
   "cell_type": "code",
   "execution_count": 9,
   "id": "cd99098c",
   "metadata": {},
   "outputs": [],
   "source": [
    "neg_lemmas = lemmatize(neg_train)\n",
    "neg_lemmas = most_common(neg_lemmas)\n",
    "\n",
    "pos_lemmas = lemmatize(pos_train)\n",
    "pos_lemmas = most_common(pos_lemmas)"
   ]
  },
  {
   "cell_type": "code",
   "execution_count": 10,
   "id": "cf141cc4",
   "metadata": {},
   "outputs": [],
   "source": [
    "pos_lemmas.difference_update(neg_lemmas)  # леммы, встречающиеся только в положительных отзывах\n",
    "neg_lemmas.difference_update(pos_lemmas)  # и только в отрицательных"
   ]
  },
  {
   "cell_type": "code",
   "execution_count": 11,
   "id": "ece25629",
   "metadata": {},
   "outputs": [],
   "source": [
    "def review_type(text):\n",
    "    lemmas = set(lemmatize_text(text))\n",
    "    if len(lemmas.intersection(pos_lemmas)) >= len(lemmas.intersection(neg_lemmas)):\n",
    "        return 1\n",
    "    else:\n",
    "        return 0"
   ]
  },
  {
   "cell_type": "code",
   "execution_count": 12,
   "id": "f4c8c79c",
   "metadata": {},
   "outputs": [],
   "source": [
    "y_pred_tr = [review_type(r) for r in X_train]\n",
    "y_pred_te = [review_type(r) for r in X_test]"
   ]
  },
  {
   "cell_type": "code",
   "execution_count": 13,
   "id": "8ffc2503",
   "metadata": {},
   "outputs": [],
   "source": [
    "train_acc = accuracy_score(y_train, y_pred_tr)\n",
    "test_acc = accuracy_score(y_test, y_pred_te)"
   ]
  },
  {
   "cell_type": "code",
   "execution_count": 14,
   "id": "bd4ce4c5",
   "metadata": {},
   "outputs": [
    {
     "name": "stdout",
     "output_type": "stream",
     "text": [
      "0.54\n",
      "0.3\n"
     ]
    }
   ],
   "source": [
    "print(train_acc)\n",
    "print(test_acc)"
   ]
  },
  {
   "cell_type": "markdown",
   "id": "d486f0dc",
   "metadata": {},
   "source": [
    "## Способы улучшить программу\n",
    "1. Выделить коллокации и частотные словосочетания и подавать их в программу\n",
    "2. Провести named entity recognition\n",
    "3. Сделать POS-теггинг, чтобы частично снять омонимию\n",
    "4. Также можно векторизовать тексты и воспользоваться инструментами машинного обучения"
   ]
  },
  {
   "cell_type": "markdown",
   "id": "f8ad7555",
   "metadata": {},
   "source": [
    "Попробую выделить коллокации и тем самым улучшить качество работы программы"
   ]
  },
  {
   "cell_type": "code",
   "execution_count": 15,
   "id": "7015b6bf",
   "metadata": {},
   "outputs": [],
   "source": [
    "from nltk.collocations import BigramCollocationFinder, BigramAssocMeasures\n",
    "\n",
    "finder = BigramCollocationFinder.from_words(neg_lemmas)\n",
    "bgm = BigramAssocMeasures()\n",
    "score = bgm.mi_like\n",
    "collocations = {' '.join(bigram): pmi for bigram, pmi in finder.score_ngrams(score)}"
   ]
  },
  {
   "cell_type": "code",
   "execution_count": 21,
   "id": "45520e0f",
   "metadata": {},
   "outputs": [],
   "source": [
    "colloc = [key for key, value in collocations.items() if value == 1]"
   ]
  },
  {
   "cell_type": "code",
   "execution_count": 22,
   "id": "dc1c20ab",
   "metadata": {},
   "outputs": [
    {
     "data": {
      "text/plain": [
       "[\"'' месяц\",\n",
       " '... менять',\n",
       " '1 музыка',\n",
       " '100 рука',\n",
       " '12 разговор',\n",
       " '2 3',\n",
       " '3 написать',\n",
       " '4 100',\n",
       " '4055 советовать',\n",
       " '5 батарейка',\n",
       " '6 возможно',\n",
       " '7 держать',\n",
       " '`` сенсор',\n",
       " 'apple 4',\n",
       " 'asus думать',\n",
       " 'duo купить',\n",
       " 'energy брать',\n",
       " 'fly заменить',\n",
       " 'prestigio долго',\n",
       " 'wi-fi аккумулятор',\n",
       " 'аккумулятор плохо',\n",
       " 'акселерометр дизайн',\n",
       " 'андроид плохой',\n",
       " 'аппарат прийтись',\n",
       " 'батарейка постоянно',\n",
       " 'батарея год',\n",
       " 'больший назад',\n",
       " 'большой чехол',\n",
       " 'брак 2',\n",
       " 'брать новый',\n",
       " 'быстро отзыв',\n",
       " 'весь делать',\n",
       " 'взять ``',\n",
       " 'видео андроид',\n",
       " 'возможно свой',\n",
       " 'вообще зависание',\n",
       " 'время работа',\n",
       " 'всё компания',\n",
       " 'выход простой',\n",
       " 'главный больший',\n",
       " 'глючить 4055',\n",
       " 'год начать',\n",
       " 'гораздо использовать',\n",
       " 'данный energy',\n",
       " 'делать телефон',\n",
       " 'день задний',\n",
       " 'деньга ремонт',\n",
       " 'держать замена',\n",
       " 'дизайн который',\n",
       " 'довольный 6',\n",
       " 'долго 7',\n",
       " 'думать видео',\n",
       " 'ещё писать',\n",
       " 'зависание тянуть',\n",
       " 'задний клавиша',\n",
       " 'замена из-за',\n",
       " 'заменить игра',\n",
       " 'заряд режим',\n",
       " 'звонить хватить',\n",
       " 'звонок понравиться',\n",
       " 'знать стать',\n",
       " 'игра глючить',\n",
       " 'идти камера',\n",
       " 'из-за быстро',\n",
       " 'интернет ещё',\n",
       " 'использование следующий',\n",
       " 'использовать большой',\n",
       " 'итог проблема',\n",
       " 'камера часто',\n",
       " 'карта выход',\n",
       " 'качество цена',\n",
       " 'клавиша аппарат',\n",
       " 'компания гораздо',\n",
       " 'контакт реагировать',\n",
       " 'который интернет',\n",
       " 'крышка батарея',\n",
       " 'купить весь',\n",
       " 'либо довольный',\n",
       " 'магазин пара',\n",
       " 'мало никакой',\n",
       " 'менять экран',\n",
       " 'месяц хотеться',\n",
       " 'минута сначала',\n",
       " 'модель wi-fi',\n",
       " 'мочь повезти',\n",
       " 'музыка нормальный',\n",
       " 'нажимать prestigio',\n",
       " 'назад софт',\n",
       " 'написать стоить',\n",
       " 'например первый',\n",
       " 'начало ...',\n",
       " 'начать сеть',\n",
       " 'неделя хотя',\n",
       " 'недостаток это',\n",
       " 'немного пользоваться',\n",
       " 'никакой главный',\n",
       " 'никто хватать',\n",
       " 'новый apple',\n",
       " 'нормально сборка',\n",
       " 'нормальный контакт',\n",
       " 'обычный всё',\n",
       " 'около характеристика',\n",
       " 'отдать время',\n",
       " 'отзыв взять',\n",
       " 'очень никто',\n",
       " 'память немного',\n",
       " 'пара 5',\n",
       " 'первый практически',\n",
       " 'перестать минута',\n",
       " 'писать фронтальный',\n",
       " 'плохо duo',\n",
       " 'плохой рекомендовать',\n",
       " 'плюс использование',\n",
       " 'повезти пока',\n",
       " 'пока модель',\n",
       " 'покупать размер',\n",
       " 'покупка день',\n",
       " 'полный продукция',\n",
       " 'полтора-два около',\n",
       " 'пользоваться начало',\n",
       " 'понравиться идти',\n",
       " 'постоянно устройство',\n",
       " 'практически fly',\n",
       " 'прийти производитель',\n",
       " 'прийтись просто',\n",
       " 'приложение память',\n",
       " 'проблема данный',\n",
       " 'продукция пять',\n",
       " 'производитель обычный',\n",
       " 'просто прийти',\n",
       " 'простой работать',\n",
       " 'прошивка самый',\n",
       " 'пять час',\n",
       " 'работа покупка',\n",
       " 'работать полный',\n",
       " 'разговор читать',\n",
       " 'размер качество',\n",
       " 'реагировать нормально',\n",
       " 'режим смартфон',\n",
       " 'рекомендовать например',\n",
       " 'ремонт хороший',\n",
       " 'решить сказать',\n",
       " 'рука плюс',\n",
       " 'сайт полтора-два',\n",
       " 'самый мочь',\n",
       " 'сборка вообще',\n",
       " \"свой ''\",\n",
       " 'сенсор итог',\n",
       " 'сеть снова',\n",
       " 'сильно перестать',\n",
       " 'сказать знать',\n",
       " 'следующий крышка',\n",
       " 'смартфон 12',\n",
       " 'сначала брак',\n",
       " 'снова очень',\n",
       " 'советовать звонок',\n",
       " 'софт спустя',\n",
       " 'спустя зарядка',\n",
       " 'сразу мало',\n",
       " 'стать сайт',\n",
       " 'стоить решить',\n",
       " 'телефон акселерометр',\n",
       " 'тянуть asus',\n",
       " 'устройство приложение',\n",
       " 'фронтальный нажимать',\n",
       " 'характеристика звонить',\n",
       " 'хватать покупать',\n",
       " 'хватить неделя',\n",
       " 'хороший заряд',\n",
       " 'хотеться отдать',\n",
       " 'хотя сразу',\n",
       " 'целое прошивка',\n",
       " 'цена карта',\n",
       " 'час сильно',\n",
       " 'часто магазин',\n",
       " 'чехол недостаток',\n",
       " 'читать 1',\n",
       " 'экран целое',\n",
       " 'это деньга']"
      ]
     },
     "execution_count": 22,
     "metadata": {},
     "output_type": "execute_result"
    }
   ],
   "source": [
    "colloc"
   ]
  },
  {
   "cell_type": "code",
   "execution_count": 23,
   "id": "9a78e44e",
   "metadata": {},
   "outputs": [
    {
     "data": {
      "text/plain": [
       "179"
      ]
     },
     "execution_count": 23,
     "metadata": {},
     "output_type": "execute_result"
    }
   ],
   "source": [
    "len(colloc)"
   ]
  },
  {
   "cell_type": "code",
   "execution_count": 24,
   "id": "5f97aad6",
   "metadata": {},
   "outputs": [],
   "source": [
    "colloc = [key for key, value in collocations.items() if value > 1]"
   ]
  },
  {
   "cell_type": "code",
   "execution_count": 25,
   "id": "2b0a16dc",
   "metadata": {},
   "outputs": [
    {
     "data": {
      "text/plain": [
       "0"
      ]
     },
     "execution_count": 25,
     "metadata": {},
     "output_type": "execute_result"
    }
   ],
   "source": [
    "len(colloc)"
   ]
  },
  {
   "cell_type": "markdown",
   "id": "33d8eac5",
   "metadata": {},
   "source": [
    "Так как все полученные коллокации имеют значение pmi не больше 1, то ничего, к сожалению, не вышло и нужны другие инструменты"
   ]
  }
 ],
 "metadata": {
  "kernelspec": {
   "display_name": "Python 3",
   "language": "python",
   "name": "python3"
  },
  "language_info": {
   "codemirror_mode": {
    "name": "ipython",
    "version": 3
   },
   "file_extension": ".py",
   "mimetype": "text/x-python",
   "name": "python",
   "nbconvert_exporter": "python",
   "pygments_lexer": "ipython3",
   "version": "3.8.8"
  }
 },
 "nbformat": 4,
 "nbformat_minor": 5
}
